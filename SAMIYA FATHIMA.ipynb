{
 "cells": [
  {
   "cell_type": "code",
   "execution_count": 1,
   "id": "0ce656e4-bdd1-414f-95eb-59edc7d3e778",
   "metadata": {},
   "outputs": [
    {
     "name": "stdout",
     "output_type": "stream",
     "text": [
      "Hello,python full stack students!\n"
     ]
    }
   ],
   "source": [
    "print(\"Hello,python full stack students!\")"
   ]
  },
  {
   "cell_type": "code",
   "execution_count": 2,
   "id": "a6b3f794-a4eb-4094-be43-7ee250376ffd",
   "metadata": {},
   "outputs": [
    {
     "name": "stdout",
     "output_type": "stream",
     "text": [
      "i am samiya fathima from avinash college of commerce\n"
     ]
    }
   ],
   "source": [
    "print (\"i am samiya fathima from avinash college of commerce\")"
   ]
  },
  {
   "cell_type": "code",
   "execution_count": 3,
   "id": "37f4ee50-e712-4558-8c17-00a862ec656d",
   "metadata": {},
   "outputs": [
    {
     "name": "stdout",
     "output_type": "stream",
     "text": [
      "studying bcom computer application \n"
     ]
    }
   ],
   "source": [
    "print(\"studying bcom computer application \")"
   ]
  },
  {
   "cell_type": "code",
   "execution_count": 4,
   "id": "0d1dc683-a775-4f08-a9b5-31291d1cba99",
   "metadata": {},
   "outputs": [
    {
     "name": "stdout",
     "output_type": "stream",
     "text": [
      "samiya 18 8.5 true\n"
     ]
    }
   ],
   "source": [
    "name=\"samiya\"\n",
    "age=18\n",
    "gpa=8.5\n",
    "is_student=\"true\"\n",
    "print(name,age,gpa,is_student)"
   ]
  },
  {
   "cell_type": "code",
   "execution_count": 6,
   "id": "26f56565-4fc1-4433-9c20-4e1efb639deb",
   "metadata": {},
   "outputs": [
    {
     "name": "stdout",
     "output_type": "stream",
     "text": [
      "b.com com app second year third sem\n"
     ]
    }
   ],
   "source": [
    "course=\"b.com com app\"\n",
    "year=\"second year\"\n",
    "semester= \"third sem\"\n",
    "print (course,year,semester)"
   ]
  },
  {
   "cell_type": "code",
   "execution_count": 11,
   "id": "c221af77-66ef-4832-b214-5f73451c0727",
   "metadata": {},
   "outputs": [
    {
     "name": "stdout",
     "output_type": "stream",
     "text": [
      "<class 'int'> <class 'float'> <class 'str'> <class 'bool'>\n"
     ]
    }
   ],
   "source": [
    "x=10\n",
    "y=3.14\n",
    "z=\"python\"\n",
    "flag=False \n",
    "print(type(x),type(y),type(z),type(flag))"
   ]
  },
  {
   "cell_type": "code",
   "execution_count": 12,
   "id": "dd2959d2-a7ea-4129-a49a-76cd968e533b",
   "metadata": {},
   "outputs": [
    {
     "name": "stdout",
     "output_type": "stream",
     "text": [
      "name=Samiya,college=Avinash,fav prog lang=Python\n"
     ]
    }
   ],
   "source": [
    "print(\"name=Samiya,college=Avinash,fav prog lang=Python\")"
   ]
  },
  {
   "cell_type": "code",
   "execution_count": 13,
   "id": "f01f5b72-73f8-48ec-be6d-f551df712dbf",
   "metadata": {},
   "outputs": [
    {
     "name": "stdout",
     "output_type": "stream",
     "text": [
      "10\n"
     ]
    }
   ],
   "source": [
    "birth_year=2015\n",
    "current_year=2025\n",
    "print(current_year-birth_year)"
   ]
  },
  {
   "cell_type": "code",
   "execution_count": 14,
   "id": "994f77db-70d2-4cef-a804-525e75b95f33",
   "metadata": {},
   "outputs": [
    {
     "name": "stdout",
     "output_type": "stream",
     "text": [
      "3 idiots 2006 five_star\n"
     ]
    }
   ],
   "source": [
    "movie_name=\"3 idiots\"\n",
    "release_year=2006\n",
    "ratings='five_star'\n",
    "print(movie_name,release_year,ratings)"
   ]
  },
  {
   "cell_type": "code",
   "execution_count": 15,
   "id": "4dc87380-fe7d-4276-b8f8-fd7c56699002",
   "metadata": {},
   "outputs": [
    {
     "name": "stdout",
     "output_type": "stream",
     "text": [
      "True\n",
      "False\n",
      "False\n"
     ]
    }
   ],
   "source": [
    "a=10\n",
    "b=4\n",
    "print(a>b)#false\n",
    "print(a==b)#true \n",
    "print((a<b)and (b==20))#false"
   ]
  },
  {
   "cell_type": "code",
   "execution_count": 1,
   "id": "d6ea8d41-63b7-4e20-ac4c-654bbe6187b3",
   "metadata": {},
   "outputs": [
    {
     "name": "stdout",
     "output_type": "stream",
     "text": [
      "['apple', 'banana', 'mango', 'orange']\n"
     ]
    },
    {
     "data": {
      "text/plain": [
       "<function print(*args, sep=' ', end='\\n', file=None, flush=False)>"
      ]
     },
     "execution_count": 1,
     "metadata": {},
     "output_type": "execute_result"
    }
   ],
   "source": [
    "fruits=[\"apple\",\"banana\",\"mango\"]\n",
    "fruits.append(\"orange\")\n",
    "print(fruits)#[\"apple\",\"banana\",\"mango\",\"orange\"\n",
    "print\n"
   ]
  },
  {
   "cell_type": "code",
   "execution_count": 1,
   "id": "87ed853a-0fe1-4e90-ac26-ca9e7d3ca78d",
   "metadata": {},
   "outputs": [
    {
     "name": "stdout",
     "output_type": "stream",
     "text": [
      "red\n"
     ]
    }
   ],
   "source": [
    "print(\"red\")"
   ]
  },
  {
   "cell_type": "code",
   "execution_count": 2,
   "id": "24747414-aab6-4457-a309-ea37055899ca",
   "metadata": {},
   "outputs": [
    {
     "name": "stdout",
     "output_type": "stream",
     "text": [
      "{1, 2, 3, 4, 5, 6}\n"
     ]
    }
   ],
   "source": [
    "numbers={1,2,3,4,5}\n",
    "numbers.add(6)\n",
    "print(numbers)"
   ]
  },
  {
   "cell_type": "code",
   "execution_count": 5,
   "id": "e58b12d0-4cc2-47c1-b0f9-63bace3946fb",
   "metadata": {},
   "outputs": [
    {
     "name": "stdout",
     "output_type": "stream",
     "text": [
      "{'name': 'SAMIYA', 'age': 18, 'course': 'bcom comp app'}\n"
     ]
    }
   ],
   "source": [
    "student={\n",
    "\"name\":\"SAMIYA\",\n",
    "\"age\":18,\n",
    "\"course\":\"bcom comp app\"\n",
    "}\n",
    "print(student)"
   ]
  },
  {
   "cell_type": "code",
   "execution_count": 6,
   "id": "a241604e-aee2-41a4-a727-b24d844ae907",
   "metadata": {},
   "outputs": [
    {
     "name": "stdout",
     "output_type": "stream",
     "text": [
      "{'name': 'SAMIYA', 'age': 18, 'course': 'bcom comp app'}\n"
     ]
    }
   ],
   "source": [
    "student={\n",
    "\"name\":\"SAMIYA\",\n",
    "\"age\":18,\n",
    "\"course\":\"bcom comp app\"\n",
    "}\n",
    "print(student)"
   ]
  },
  {
   "cell_type": "code",
   "execution_count": 7,
   "id": "d1570193-8fd9-4b40-89f4-7a04e8b1e2f3",
   "metadata": {},
   "outputs": [
    {
     "name": "stdout",
     "output_type": "stream",
     "text": [
      "grade:B\n"
     ]
    }
   ],
   "source": [
    "marks=75\n",
    "if marks>=90:\n",
    "    print(\"grade:A\")\n",
    "elif marks>=75:\n",
    "    print(\"grade:B\")\n",
    "elif marks>=50:\n",
    "    print(\"grade :C\")\n",
    "    print(\"grade:fail\")"
   ]
  },
  {
   "cell_type": "code",
   "execution_count": 8,
   "id": "919a9a67-b90a-4d3b-8904-e2724709edd7",
   "metadata": {},
   "outputs": [
    {
     "name": "stdout",
     "output_type": "stream",
     "text": [
      "numbrer: 1\n",
      "numbrer: 2\n",
      "numbrer: 3\n",
      "numbrer: 4\n",
      "numbrer: 5\n",
      "numbrer: 6\n",
      "numbrer: 7\n",
      "numbrer: 8\n",
      "numbrer: 9\n"
     ]
    }
   ],
   "source": [
    "#loops\n",
    "#for\n",
    "for i in range (1,10):\n",
    "    print(\"numbrer:\",i)"
   ]
  },
  {
   "cell_type": "code",
   "execution_count": 10,
   "id": "c30154d7-01fa-416f-935e-85c35792f4ff",
   "metadata": {},
   "outputs": [
    {
     "name": "stdout",
     "output_type": "stream",
     "text": [
      "count: 1\n",
      "count: 2\n",
      "count: 3\n",
      "count: 4\n",
      "count: 5\n"
     ]
    }
   ],
   "source": [
    "#while loop\n",
    "count=1\n",
    "while count<=5:\n",
    "    print(\"count:\",count)\n",
    "    count+=1"
   ]
  },
  {
   "cell_type": "code",
   "execution_count": 13,
   "id": "412e133e-e503-4495-a68c-fe089b57d306",
   "metadata": {},
   "outputs": [
    {
     "name": "stdout",
     "output_type": "stream",
     "text": [
      "1\n",
      "2\n",
      "3\n",
      "4\n"
     ]
    }
   ],
   "source": [
    "for i in range (1,10):\n",
    "    if i ==5:\n",
    "     break\n",
    "    print(i)"
   ]
  },
  {
   "cell_type": "code",
   "execution_count": null,
   "id": "d88e9d22-3018-4e4b-b04e-c4819af56a49",
   "metadata": {},
   "outputs": [],
   "source": []
  }
 ],
 "metadata": {
  "kernelspec": {
   "display_name": "Python [conda env:base] *",
   "language": "python",
   "name": "conda-base-py"
  },
  "language_info": {
   "codemirror_mode": {
    "name": "ipython",
    "version": 3
   },
   "file_extension": ".py",
   "mimetype": "text/x-python",
   "name": "python",
   "nbconvert_exporter": "python",
   "pygments_lexer": "ipython3",
   "version": "3.13.5"
  }
 },
 "nbformat": 4,
 "nbformat_minor": 5
}
