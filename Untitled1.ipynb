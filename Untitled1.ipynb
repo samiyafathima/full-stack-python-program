{
 "cells": [
  {
   "cell_type": "code",
   "execution_count": 1,
   "id": "0ce656e4-bdd1-414f-95eb-59edc7d3e778",
   "metadata": {},
   "outputs": [
    {
     "name": "stdout",
     "output_type": "stream",
     "text": [
      "Hello,python full stack students!\n"
     ]
    }
   ],
   "source": [
    "print(\"Hello,python full stack students!\")"
   ]
  },
  {
   "cell_type": "code",
   "execution_count": 2,
   "id": "a6b3f794-a4eb-4094-be43-7ee250376ffd",
   "metadata": {},
   "outputs": [
    {
     "name": "stdout",
     "output_type": "stream",
     "text": [
      "i am samiya fathima from avinash college of commerce\n"
     ]
    }
   ],
   "source": [
    "print (\"i am samiya fathima from avinash college of commerce\")"
   ]
  },
  {
   "cell_type": "code",
   "execution_count": 3,
   "id": "37f4ee50-e712-4558-8c17-00a862ec656d",
   "metadata": {},
   "outputs": [
    {
     "name": "stdout",
     "output_type": "stream",
     "text": [
      "studying bcom computer application \n"
     ]
    }
   ],
   "source": [
    "print(\"studying bcom computer application \")"
   ]
  },
  {
   "cell_type": "code",
   "execution_count": 4,
   "id": "0d1dc683-a775-4f08-a9b5-31291d1cba99",
   "metadata": {},
   "outputs": [
    {
     "name": "stdout",
     "output_type": "stream",
     "text": [
      "samiya 18 8.5 true\n"
     ]
    }
   ],
   "source": [
    "name=\"samiya\"\n",
    "age=18\n",
    "gpa=8.5\n",
    "is_student=\"true\"\n",
    "print(name,age,gpa,is_student)"
   ]
  },
  {
   "cell_type": "code",
   "execution_count": 6,
   "id": "26f56565-4fc1-4433-9c20-4e1efb639deb",
   "metadata": {},
   "outputs": [
    {
     "name": "stdout",
     "output_type": "stream",
     "text": [
      "b.com com app second year third sem\n"
     ]
    }
   ],
   "source": [
    "course=\"b.com com app\"\n",
    "year=\"second year\"\n",
    "semester= \"third sem\"\n",
    "print (course,year,semester)"
   ]
  },
  {
   "cell_type": "code",
   "execution_count": 11,
   "id": "c221af77-66ef-4832-b214-5f73451c0727",
   "metadata": {},
   "outputs": [
    {
     "name": "stdout",
     "output_type": "stream",
     "text": [
      "<class 'int'> <class 'float'> <class 'str'> <class 'bool'>\n"
     ]
    }
   ],
   "source": [
    "x=10\n",
    "y=3.14\n",
    "z=\"python\"\n",
    "flag=False \n",
    "print(type(x),type(y),type(z),type(flag))"
   ]
  },
  {
   "cell_type": "code",
   "execution_count": 12,
   "id": "dd2959d2-a7ea-4129-a49a-76cd968e533b",
   "metadata": {},
   "outputs": [
    {
     "name": "stdout",
     "output_type": "stream",
     "text": [
      "name=Samiya,college=Avinash,fav prog lang=Python\n"
     ]
    }
   ],
   "source": [
    "print(\"name=Samiya,college=Avinash,fav prog lang=Python\")"
   ]
  },
  {
   "cell_type": "code",
   "execution_count": 13,
   "id": "f01f5b72-73f8-48ec-be6d-f551df712dbf",
   "metadata": {},
   "outputs": [
    {
     "name": "stdout",
     "output_type": "stream",
     "text": [
      "10\n"
     ]
    }
   ],
   "source": [
    "birth_year=2015\n",
    "current_year=2025\n",
    "print(current_year-birth_year)"
   ]
  },
  {
   "cell_type": "code",
   "execution_count": 14,
   "id": "994f77db-70d2-4cef-a804-525e75b95f33",
   "metadata": {},
   "outputs": [
    {
     "name": "stdout",
     "output_type": "stream",
     "text": [
      "3 idiots 2006 five_star\n"
     ]
    }
   ],
   "source": [
    "movie_name=\"3 idiots\"\n",
    "release_year=2006\n",
    "ratings='five_star'\n",
    "print(movie_name,release_year,ratings)"
   ]
  },
  {
   "cell_type": "code",
   "execution_count": 15,
   "id": "4dc87380-fe7d-4276-b8f8-fd7c56699002",
   "metadata": {},
   "outputs": [
    {
     "name": "stdout",
     "output_type": "stream",
     "text": [
      "True\n",
      "False\n",
      "False\n"
     ]
    }
   ],
   "source": [
    "a=10\n",
    "b=4\n",
    "print(a>b)#false\n",
    "print(a==b)#true \n",
    "print((a<b)and (b==20))#false"
   ]
  },
  {
   "cell_type": "code",
   "execution_count": null,
   "id": "d6ea8d41-63b7-4e20-ac4c-654bbe6187b3",
   "metadata": {},
   "outputs": [],
   "source": [
    "\n"
   ]
  }
 ],
 "metadata": {
  "kernelspec": {
   "display_name": "Python [conda env:base] *",
   "language": "python",
   "name": "conda-base-py"
  },
  "language_info": {
   "codemirror_mode": {
    "name": "ipython",
    "version": 3
   },
   "file_extension": ".py",
   "mimetype": "text/x-python",
   "name": "python",
   "nbconvert_exporter": "python",
   "pygments_lexer": "ipython3",
   "version": "3.13.5"
  }
 },
 "nbformat": 4,
 "nbformat_minor": 5
}
